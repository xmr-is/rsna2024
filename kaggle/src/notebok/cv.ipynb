{
 "cells": [
  {
   "cell_type": "code",
   "execution_count": null,
   "metadata": {},
   "outputs": [],
   "source": [
    "import numpy as np\n",
    "import torch\n",
    "import torch.nn as nn\n",
    "\n",
    "y_preds = []\n",
    "labels = []\n",
    "\n",
    "weights = torch.tensor([1.0, 2.0, 4.0])\n",
    "criterion2 = nn.CrossEntropyLoss(weight=weights)\n",
    "\n",
    "for i in range(1):\n",
    "    try:\n",
    "        pred = torch.from_numpy(np.load(f'/Users/markun/git/rsna2024/kaggle/outputs/preds_fold{i}.npy'))\n",
    "        label = torch.from_numpy(np.load(f'/Users/markun/git/rsna2024/kaggle/outputs/labels_fold{i}.npy'))\n",
    "        y_preds.extend(pred)\n",
    "        labels.extend(label)\n",
    "    except:\n",
    "        raise RuntimeError('File Not Found')\n",
    "\n",
    "y_preds = torch.cat(y_preds)\n",
    "labels = torch.cat(labels)\n",
    "\n",
    "cv = criterion2(y_preds, labels)\n",
    "print('cv score:', cv.item())"
   ]
  }
 ],
 "metadata": {
  "language_info": {
   "name": "python"
  }
 },
 "nbformat": 4,
 "nbformat_minor": 2
}
