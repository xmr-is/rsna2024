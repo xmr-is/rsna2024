{
 "cells": [
  {
   "cell_type": "code",
   "execution_count": null,
   "metadata": {},
   "outputs": [],
   "source": [
    "from sklearn.model_selection import KFold\n",
    "import pandas as pd\n",
    "\n",
    "df = pd.read_csv('/Users/markun/git/rsna2024/kaggle/data/train.csv')\n",
    "df"
   ]
  },
  {
   "cell_type": "code",
   "execution_count": null,
   "metadata": {},
   "outputs": [],
   "source": [
    "\"\"\"\n",
    "fold: 0\n",
    "train_study_id: \n",
    "  - 4003253\n",
    "  - 7143189\n",
    "valid_study_id:\n",
    "  - 4646740\n",
    "  - 8785691\n",
    "\"\"\"\n",
    "\n",
    "import yaml\n",
    "\n",
    "\n",
    "kf = KFold(n_splits=5, shuffle=True, random_state=42)\n",
    "for fold, (trn_idx, val_idx) in enumerate(kf.split(df)):\n",
    "\n",
    "    print('#'*30)\n",
    "    print(f'start fold {fold}')\n",
    "    print('#'*30)\n",
    "    print(len(trn_idx), len(val_idx))\n",
    "\n",
    "    df_train = df.iloc[trn_idx]\n",
    "    df_valid = df.iloc[val_idx]\n",
    "    \n",
    "    train = df_train['study_id'].tolist() \n",
    "    valid = df_valid['study_id'].tolist()  \n",
    "\n",
    "    fold_info = {\n",
    "        'fold': fold,\n",
    "        'train_study_id': train,\n",
    "        'valid_study_id': valid\n",
    "    }\n",
    "\n",
    "    output_yaml = f'fold_{fold}.yaml'\n",
    "    with open(output_yaml, 'w') as yaml_file:\n",
    "        yaml.dump(fold_info, yaml_file, default_flow_style=False)\n",
    "\n",
    "    print(f\"YAMLファイル '{output_yaml}' に書き出しました。\")"
   ]
  },
  {
   "cell_type": "code",
   "execution_count": null,
   "metadata": {},
   "outputs": [],
   "source": [
    "import timm\n",
    "\n",
    "timm.list_models()"
   ]
  }
 ],
 "metadata": {
  "kernelspec": {
   "display_name": "kaggle_env",
   "language": "python",
   "name": "python3"
  },
  "language_info": {
   "codemirror_mode": {
    "name": "ipython",
    "version": 3
   },
   "file_extension": ".py",
   "mimetype": "text/x-python",
   "name": "python",
   "nbconvert_exporter": "python",
   "pygments_lexer": "ipython3",
   "version": "3.11.9"
  }
 },
 "nbformat": 4,
 "nbformat_minor": 2
}
